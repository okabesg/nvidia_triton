{
 "cells": [
  {
   "cell_type": "code",
   "execution_count": 2,
   "metadata": {},
   "outputs": [
    {
     "name": "stderr",
     "output_type": "stream",
     "text": [
      "\u001b[34m\u001b[1mwandb\u001b[0m: \u001b[33mWARNING\u001b[0m W&B installed but not logged in.  Run `wandb login` or set the WANDB_API_KEY env variable.\n"
     ]
    }
   ],
   "source": [
    "from transformers import BertModel\n",
    "import torch as t\n",
    "from transformers import BertTokenizer\n",
    "from torch import nn\n",
    "import onnx"
   ]
  },
  {
   "cell_type": "code",
   "execution_count": 2,
   "metadata": {},
   "outputs": [],
   "source": [
    "class my_model(nn.Module):\n",
    "    def __init__(self):\n",
    "        super().__init__()\n",
    "        self.l1 = nn.Linear(10, 3)\n",
    "        self.l2 = nn.Linear(20, 3)\n",
    "        self.dropout = nn.Dropout(0.5)\n",
    "        self.relu = nn.ReLU()\n",
    "    \n",
    "    def forward(self, input1, input2):\n",
    "        output1 = self.l1(input1)\n",
    "        # output = self.dropout(output)\n",
    "        # output = self.relu(output)\n",
    "        output2 = self.l2(input2)\n",
    "        output2 = output2.transpose(0,1)\n",
    "        return t.matmul(output1,output2)"
   ]
  },
  {
   "cell_type": "code",
   "execution_count": 13,
   "metadata": {},
   "outputs": [],
   "source": [
    "bt = BertTokenizer.from_pretrained(\"bert-base-uncased\")\n",
    "model = BertModel.from_pretrained(\"bert-base-uncased\")\n",
    "\n",
    "sent = \"I love you very much.\"\n",
    "input_ids = t.tensor([bt.encode(sent)])\n",
    "am = t.ones(input_ids.size())"
   ]
  },
  {
   "cell_type": "code",
   "execution_count": 7,
   "metadata": {},
   "outputs": [
    {
     "data": {
      "text/plain": [
       "torch.Size([1, 6, 768])"
      ]
     },
     "execution_count": 7,
     "metadata": {},
     "output_type": "execute_result"
    }
   ],
   "source": [
    "model(input_ids, am)[0].size()"
   ]
  },
  {
   "cell_type": "code",
   "execution_count": 3,
   "metadata": {},
   "outputs": [
    {
     "data": {
      "text/plain": [
       "tensor([[-0.2710, -0.2388, -0.2480],\n",
       "        [ 0.7592,  0.7918,  0.0612]], grad_fn=<MmBackward>)"
      ]
     },
     "execution_count": 3,
     "metadata": {},
     "output_type": "execute_result"
    }
   ],
   "source": [
    "model = my_model()\n",
    "x1 = t.randn(2,10)\n",
    "x2 = t.randn(3,20)\n",
    "model(x1, x2)"
   ]
  },
  {
   "cell_type": "code",
   "execution_count": 15,
   "metadata": {},
   "outputs": [],
   "source": [
    "dynamic_axes={'input_idx':{0:'bs', 1:'seq_len'}, 'attention_mask':{0:'bs', 1:'seq_len'}, 'output':{0:'bs', 1:'seq_len', 2:'hid_dim'}}\n",
    "with t.no_grad():\n",
    "    t.onnx.export(\n",
    "        model, \n",
    "        (input_ids, am),\n",
    "        \"model.onnx\", \n",
    "        opset_version=10, \n",
    "        input_names=['input_idx', 'attention_mask'], \n",
    "        output_names=['output'],\n",
    "        dynamic_axes=dynamic_axes)"
   ]
  },
  {
   "cell_type": "code",
   "execution_count": 5,
   "metadata": {},
   "outputs": [],
   "source": [
    "onnx_model = onnx.load(\"test.onnx\")"
   ]
  },
  {
   "cell_type": "code",
   "execution_count": 6,
   "metadata": {},
   "outputs": [
    {
     "name": "stdout",
     "output_type": "stream",
     "text": [
      "correct\n"
     ]
    }
   ],
   "source": [
    "try:\n",
    "    onnx.checker.check_model(onnx_model)\n",
    "except Exception:\n",
    "    print(\"incorrect\")\n",
    "else:\n",
    "    print(\"correct\")"
   ]
  },
  {
   "cell_type": "code",
   "execution_count": null,
   "metadata": {},
   "outputs": [],
   "source": []
  }
 ],
 "metadata": {
  "kernelspec": {
   "display_name": "Python 3.7.10 ('guiwei')",
   "language": "python",
   "name": "python3"
  },
  "language_info": {
   "codemirror_mode": {
    "name": "ipython",
    "version": 3
   },
   "file_extension": ".py",
   "mimetype": "text/x-python",
   "name": "python",
   "nbconvert_exporter": "python",
   "pygments_lexer": "ipython3",
   "version": "3.7.10"
  },
  "orig_nbformat": 4,
  "vscode": {
   "interpreter": {
    "hash": "d399b4766372dee75ecf5f6cc98bea09e84e3ca20179fb23c37e53271d6cb6e7"
   }
  }
 },
 "nbformat": 4,
 "nbformat_minor": 2
}
