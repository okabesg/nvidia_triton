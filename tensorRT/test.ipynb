{
 "cells": [
  {
   "cell_type": "code",
   "execution_count": 1,
   "metadata": {},
   "outputs": [],
   "source": [
    "import os\n",
    "import numpy as np\n",
    "import tensorrt as trt\n",
    "from cuda import cudart"
   ]
  },
  {
   "cell_type": "code",
   "execution_count": 2,
   "metadata": {},
   "outputs": [],
   "source": [
    "trtFile = \"./model.plan\""
   ]
  },
  {
   "cell_type": "code",
   "execution_count": 3,
   "metadata": {},
   "outputs": [],
   "source": [
    "def run():\n",
    "    logger = trt.logger(trt.Logger.ERROR)\n",
    "    if os.path.isfile(trtFile):\n",
    "        with open(trtFile, 'rb') as f:\n",
    "            engineString = f.read()\n",
    "        if engineString == None:\n",
    "            print(\"Failed getting serialized engine!\")\n",
    "            return\n",
    "        print(\"Succeed se!\")\n",
    "    else:\n",
    "        builder = trt.Builder(logger)\n",
    "        network = builder.create_network(1 << int(trt.NetworkDefinitionCreationFlag.EXPLICIT_BATCH))\n",
    "        profile = builder.create_optimization_profile()\n",
    "        config = builder.create_builder_config()\n",
    "        config.max_workspace_size = 1 << 30\n",
    "\n",
    "        inputTensor = network.add_input('inputT0', trt.float32, [-1, -1, -1])\n",
    "        profile.set_shape(inputTensor.name, [1,1,1],[3,4,5],[6,8,10])\n",
    "        config.add_optimization_profile(profile)\n",
    "\n",
    "        identityLayer = network.add_identity(inputTensor)\n",
    "        network.mark_output(identityLayer.get_output(0))\n",
    "\n",
    "        engineString = builder.build_serialized_network(network, config)\n",
    "        if(engineString == None):\n",
    "            print(\"Failed getting serialized engine!\")\n",
    "            return\n",
    "        print(\"Succeeded getting serialized engine!\")\n",
    "        with open(trtFile, 'wb') as f:\n",
    "            f.write(engineString)\n",
    "            print(\"Succeeded saving .plan file!\")\n",
    "    \n",
    "    engine = trt.Runtime(logger).deserialize_cuda_engine(engineString)\n",
    "    if engine == None:\n",
    "        print(\"Failed building engine!\")\n",
    "        return\n",
    "    print(\"success building\")\n",
    "\n",
    "    context = engine.create_execution_context()\n",
    "    context.set_binding_shape(0, [3,4,5])\n",
    "\n",
    "    nInput = np.sum([engine.binding_is_input(i) for i in range(engine.num_bingdings)])\n",
    "    nOutput = engine.num_bingings - nInput\n",
    "    for i in range(nInput):\n",
    "        print(\"Bind[%2d]:i[%2d]->\" % (i,i), engine.get_bingding_dtype(i), engine.get_bingding_shape(i), context.get_binding_shape(i), engine.get_binging_name(i))\n",
    "    for i in range(nInput, nInput+nOutput):\n",
    "        print(\"Bind[%2d]:o[%2d]->\" %(i, i- nInput), engine.get_binding_dtype(i), engine.get_binding_shape(i), context.get_binding_shape(i), engine.get_binding_name(i))\n",
    "    \n",
    "    data = np.arange(3*4*5, dtype=np.float32).reshape(3,4,5)\n",
    "    bufferH = []\n",
    "    bufferH.append(np.ascontiguousarray(data.reshape(-1)))\n",
    "    for i in range(nInput, nInput + nOutput):\n",
    "        bufferH.append(np.empty(context.get_bingding_shape(i), dtype = trt.nptye(engine.get_binding_dtype(i))))\n",
    "    bufferD = []\n",
    "    for i in range(nInput + nOutput):\n",
    "        bufferD.append(cudart.cudaMalloc(bufferH[i].nbytes)[1])\n",
    "\n",
    "    for i in range(nInput):\n",
    "        cudart.cudaMemcpy(bufferD[i], bufferH[i].ctypes.data, bufferH[i].nbytes, cudart.cudaMemcpyKind.cudaMemcpyHostToDevice)\n",
    "\n",
    "    context.execute_v2(bufferD)\n",
    "\n",
    "    for i in range(nInput, nInput+nOutput):\n",
    "        cudart.cudaMemcpy(bufferD[i], bufferH[i].ctypes.data, bufferH[i].nbytes, cudart.cudaMemcpyKind.cudaMemcpyDeviceToHost)\n",
    "\n",
    "    for i in range(nInput+nOutput):\n",
    "        print(engine.get_binding_name(i))\n",
    "        print(bufferH[i].reshape(context.get_binding_shape(i)))\n",
    "    \n",
    "    for b in bufferD:\n",
    "        cudart.cudaFree(b)"
   ]
  },
  {
   "cell_type": "code",
   "execution_count": 6,
   "metadata": {},
   "outputs": [],
   "source": [
    "logger = trt.Logger(trt.Logger.ERROR)"
   ]
  },
  {
   "cell_type": "code",
   "execution_count": 10,
   "metadata": {},
   "outputs": [],
   "source": [
    "builder = trt.Builder(logger)"
   ]
  },
  {
   "cell_type": "code",
   "execution_count": 11,
   "metadata": {},
   "outputs": [],
   "source": [
    "network = builder.create_network(1 << int(trt.NetworkDefinitionCreationFlag.EXPLICIT_BATCH))"
   ]
  },
  {
   "cell_type": "code",
   "execution_count": 12,
   "metadata": {},
   "outputs": [],
   "source": [
    "profile = builder.create_optimization_profile()\n"
   ]
  },
  {
   "cell_type": "code",
   "execution_count": 13,
   "metadata": {},
   "outputs": [
    {
     "name": "stderr",
     "output_type": "stream",
     "text": [
      "/home/anaconda3/envs/guiwei/lib/python3.7/site-packages/ipykernel_launcher.py:2: DeprecationWarning: Use set_memory_pool_limit instead.\n",
      "  \n"
     ]
    }
   ],
   "source": [
    "config = builder.create_builder_config()\n",
    "config.max_workspace_size = 1 << 30"
   ]
  },
  {
   "cell_type": "code",
   "execution_count": 14,
   "metadata": {},
   "outputs": [],
   "source": [
    "inputTensor = network.add_input('inputT0', trt.float32, [-1, -1, -1])\n"
   ]
  },
  {
   "cell_type": "code",
   "execution_count": null,
   "metadata": {},
   "outputs": [],
   "source": []
  }
 ],
 "metadata": {
  "kernelspec": {
   "display_name": "Python 3.7.10 ('guiwei')",
   "language": "python",
   "name": "python3"
  },
  "language_info": {
   "codemirror_mode": {
    "name": "ipython",
    "version": 3
   },
   "file_extension": ".py",
   "mimetype": "text/x-python",
   "name": "python",
   "nbconvert_exporter": "python",
   "pygments_lexer": "ipython3",
   "version": "3.7.10"
  },
  "orig_nbformat": 4,
  "vscode": {
   "interpreter": {
    "hash": "d399b4766372dee75ecf5f6cc98bea09e84e3ca20179fb23c37e53271d6cb6e7"
   }
  }
 },
 "nbformat": 4,
 "nbformat_minor": 2
}
